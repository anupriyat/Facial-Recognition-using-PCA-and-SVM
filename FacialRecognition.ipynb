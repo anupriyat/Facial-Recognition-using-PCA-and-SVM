{
 "cells": [
  {
   "cell_type": "markdown",
   "metadata": {},
   "source": [
    "# Facial Recognition using PCA & Support Vector Machines"
   ]
  },
  {
   "cell_type": "code",
   "execution_count": 1,
   "metadata": {},
   "outputs": [],
   "source": [
    "# Loading the necessary Libraries\n",
    "from __future__ import print_function\n",
    "\n",
    "from time import time\n",
    "import logging\n",
    "import matplotlib.pyplot as plt\n",
    "import numpy as np\n",
    "import pandas as pd\n",
    "\n",
    "from sklearn.model_selection import train_test_split\n",
    "from sklearn.model_selection import GridSearchCV\n",
    "from sklearn.datasets import fetch_lfw_people\n",
    "from sklearn.metrics import classification_report\n",
    "from sklearn.metrics import confusion_matrix\n",
    "from sklearn.decomposition import PCA\n",
    "from sklearn.svm import SVC"
   ]
  },
  {
   "cell_type": "code",
   "execution_count": 2,
   "metadata": {},
   "outputs": [],
   "source": [
    "# Loading our custom images\n",
    "def rgb2gray(rgb):\n",
    "    return np.dot(rgb[...,:3],[0.114,0.587,0.299])\n",
    "\n",
    "def imgload(name='Anupriya_Thirumurthy', index=60):\n",
    "    img_array = np.array(())\n",
    "    img_index = []\n",
    "    for i in range(1,11):\n",
    "        if img_array.shape[0] == 0:\n",
    "            img_array = rgb2gray(plt.imread(name + '_' + str(i) + '.jpg')).flatten()\n",
    "            #print(img_array.shape)\n",
    "        else : \n",
    "            add_img = rgb2gray(plt.imread(name + '_' + str(i) + '.jpg')).flatten()\n",
    "            img_array = np.vstack([img_array, add_img])\n",
    "        i += 1\n",
    "        img_index.append(index)\n",
    "    img_index = np.array(img_index)\n",
    "    \n",
    "    return img_array, img_index"
   ]
  },
  {
   "cell_type": "code",
   "execution_count": 3,
   "metadata": {},
   "outputs": [],
   "source": [
    "ANU = imgload()\n",
    "KUNAL = imgload('Kunal',61)\n",
    "STEVE = imgload('Steve',62)\n",
    "HENA = imgload('Hena_Lee',63)"
   ]
  },
  {
   "cell_type": "code",
   "execution_count": 4,
   "metadata": {},
   "outputs": [
    {
     "data": {
      "text/plain": [
       "(array([[185.949, 186.476, 186.715, ...,  23.374,  24.374,  20.776],\n",
       "        [196.514, 191.421, 191.681, ...,  17.847,  19.847,  19.776],\n",
       "        [191.817, 194.355, 191.274, ...,  18.374,  19.374,  17.249],\n",
       "        ...,\n",
       "        [194.231, 196.388, 194.773, ...,  17.847,  17.847,  17.847],\n",
       "        [209.84 , 207.231, 205.921, ...,  19.776,  21.776,  19.776],\n",
       "        [194.279, 192.681, 189.279, ...,  18.776,  22.776,  25.776]]),\n",
       " array([60, 60, 60, 60, 60, 60, 60, 60, 60, 60]))"
      ]
     },
     "execution_count": 4,
     "metadata": {},
     "output_type": "execute_result"
    }
   ],
   "source": [
    "ANU"
   ]
  },
  {
   "cell_type": "code",
   "execution_count": 5,
   "metadata": {},
   "outputs": [
    {
     "data": {
      "text/plain": [
       "(40, 1850)"
      ]
     },
     "execution_count": 5,
     "metadata": {},
     "output_type": "execute_result"
    }
   ],
   "source": [
    "custom_img = np.vstack((ANU[0], KUNAL[0], STEVE[0], HENA[0]))\n",
    "n_samples = custom_img.shape[0]\n",
    "custom_img.shape"
   ]
  },
  {
   "cell_type": "code",
   "execution_count": 6,
   "metadata": {},
   "outputs": [],
   "source": [
    "custom_matrix = custom_img\n",
    "n_features = custom_img.shape[1]\n",
    "custom_index = np.append(ANU[1], [KUNAL[1], STEVE[1], HENA[1]])\n",
    "custom_names = np.append('ANU',['KUNAL', 'STEVE','HENA'])\n",
    "n_classes = custom_names.shape[0]"
   ]
  },
  {
   "cell_type": "code",
   "execution_count": 7,
   "metadata": {},
   "outputs": [
    {
     "data": {
      "text/plain": [
       "array(['ANU', 'KUNAL', 'STEVE', 'HENA'], dtype='<U5')"
      ]
     },
     "execution_count": 7,
     "metadata": {},
     "output_type": "execute_result"
    }
   ],
   "source": [
    "custom_names"
   ]
  },
  {
   "cell_type": "code",
   "execution_count": 8,
   "metadata": {},
   "outputs": [
    {
     "name": "stdout",
     "output_type": "stream",
     "text": [
      "Custom Images Train shape: (30, 1850)\n",
      "Custom Images Test shape: (10, 1850)\n"
     ]
    }
   ],
   "source": [
    "# Custom img test & train\n",
    "custom_img_train, custom_img_test, custom_index_train, custom_index_test = train_test_split(custom_matrix, custom_index, test_size=0.25, random_state = 42)\n",
    "\n",
    "print(\"Custom Images Train shape:\",custom_img_train.shape)\n",
    "print(\"Custom Images Test shape:\",custom_img_test.shape)"
   ]
  },
  {
   "cell_type": "code",
   "execution_count": 9,
   "metadata": {},
   "outputs": [
    {
     "data": {
      "text/plain": [
       "array([61, 61, 61, 62, 60, 61, 63, 62, 63, 60])"
      ]
     },
     "execution_count": 9,
     "metadata": {},
     "output_type": "execute_result"
    }
   ],
   "source": [
    "custom_index_test"
   ]
  },
  {
   "cell_type": "code",
   "execution_count": 10,
   "metadata": {},
   "outputs": [],
   "source": [
    "# Loading LFW images\n",
    "lfw_people = fetch_lfw_people(min_faces_per_person=20, resize=0.4)\n",
    "X = lfw_people.data # array of images\n",
    "y = lfw_people.target # target index of the person\n",
    "n_features = X.shape[1]  # 1850 features are used to represent the face\n",
    "target_names = lfw_people.target_names\n",
    "n_classes = target_names.shape[0]"
   ]
  },
  {
   "cell_type": "code",
   "execution_count": 11,
   "metadata": {},
   "outputs": [
    {
     "data": {
      "text/plain": [
       "(2416, 1850)"
      ]
     },
     "execution_count": 11,
     "metadata": {},
     "output_type": "execute_result"
    }
   ],
   "source": [
    "lfw_people.data.shape"
   ]
  },
  {
   "cell_type": "code",
   "execution_count": 12,
   "metadata": {},
   "outputs": [
    {
     "data": {
      "text/plain": [
       "(60,)"
      ]
     },
     "execution_count": 12,
     "metadata": {},
     "output_type": "execute_result"
    }
   ],
   "source": [
    "lfw_people.target_names.shape"
   ]
  },
  {
   "cell_type": "code",
   "execution_count": 13,
   "metadata": {},
   "outputs": [
    {
     "name": "stdout",
     "output_type": "stream",
     "text": [
      "LFW Train shape: (1812, 1850)\n",
      "LFW Test shape: (604, 1850)\n"
     ]
    }
   ],
   "source": [
    "# LFW img test & train\n",
    "X_train, X_test, y_train, y_test = train_test_split(X, y, test_size=0.25, random_state=42)\n",
    "\n",
    "print(\"LFW Train shape:\",X_train.shape)\n",
    "print(\"LFW Test shape:\",X_test.shape)"
   ]
  },
  {
   "cell_type": "markdown",
   "metadata": {},
   "source": [
    "## Add custom Images to LFW data"
   ]
  },
  {
   "cell_type": "code",
   "execution_count": 14,
   "metadata": {},
   "outputs": [
    {
     "name": "stdout",
     "output_type": "stream",
     "text": [
      "Final Train shape: (1842, 1850)\n",
      "Final Test shape: (614, 1850)\n"
     ]
    }
   ],
   "source": [
    "X_train = np.vstack((X_train, custom_img_train))\n",
    "y_train = np.append(y_train, custom_index_train)\n",
    "X_test = np.vstack((X_test, custom_img_test))\n",
    "y_test = np.append(y_test, custom_index_test)\n",
    "print(\"Final Train shape:\",X_train.shape)\n",
    "print(\"Final Test shape:\",X_test.shape)"
   ]
  },
  {
   "cell_type": "code",
   "execution_count": 15,
   "metadata": {},
   "outputs": [
    {
     "data": {
      "text/plain": [
       "array(['Alejandro Toledo', 'Alvaro Uribe', 'Amelie Mauresmo',\n",
       "       'Andre Agassi', 'Angelina Jolie', 'Arnold Schwarzenegger',\n",
       "       'Atal Bihari Vajpayee', 'Bill Clinton', 'Carlos Menem',\n",
       "       'Colin Powell', 'David Beckham', 'Donald Rumsfeld',\n",
       "       'George Robertson', 'Gerhard Schroeder', 'Gloria Macapagal Arroyo',\n",
       "       'Gray Davis', 'Guillermo Coria', 'Hamid Karzai', 'Hans Blix',\n",
       "       'Hugo Chavez', 'Igor Ivanov', 'Jack Straw', 'Jacques Chirac',\n",
       "       'Jean Chretien', 'Jennifer Aniston', 'Jennifer Capriati',\n",
       "       'Jennifer Lopez', 'Jeremy Greenstock', 'Jiang Zemin',\n",
       "       'John Ashcroft', 'John Negroponte', 'Jose Maria Aznar',\n",
       "       'Juan Carlos Ferrero', 'Junichiro Koizumi', 'Kofi Annan',\n",
       "       'Laura Bush', 'Lindsay Davenport', 'Lleyton Hewitt',\n",
       "       'Luiz Inacio Lula da Silva', 'Mahmoud Abbas',\n",
       "       'Megawati Sukarnoputri', 'Michael Bloomberg', 'Naomi Watts',\n",
       "       'Nestor Kirchner', 'Paul Bremer', 'Pete Sampras',\n",
       "       'Recep Tayyip Erdogan', 'Ricardo Lagos', 'Roh Moo-hyun',\n",
       "       'Rudolph Giuliani', 'Saddam Hussein', 'Serena Williams',\n",
       "       'Silvio Berlusconi', 'Tiger Woods', 'Tom Daschle', 'Tom Ridge',\n",
       "       'Tony Blair', 'Vicente Fox', 'Vladimir Putin', 'Winona Ryder',\n",
       "       'ANU', 'KUNAL', 'STEVE', 'HENA'], dtype='<U25')"
      ]
     },
     "execution_count": 15,
     "metadata": {},
     "output_type": "execute_result"
    }
   ],
   "source": [
    "for name in custom_names:\n",
    "    target_names = np.append(target_names, name)\n",
    "target_names"
   ]
  },
  {
   "cell_type": "code",
   "execution_count": 16,
   "metadata": {},
   "outputs": [
    {
     "data": {
      "text/plain": [
       "(64,)"
      ]
     },
     "execution_count": 16,
     "metadata": {},
     "output_type": "execute_result"
    }
   ],
   "source": [
    "target_names.shape"
   ]
  },
  {
   "cell_type": "markdown",
   "metadata": {},
   "source": [
    "## PCA"
   ]
  },
  {
   "cell_type": "code",
   "execution_count": 17,
   "metadata": {},
   "outputs": [
    {
     "data": {
      "text/plain": [
       "[<matplotlib.lines.Line2D at 0x10b0ab438>]"
      ]
     },
     "execution_count": 17,
     "metadata": {},
     "output_type": "execute_result"
    },
    {
     "data": {
      "image/png": "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\n",
      "text/plain": [
       "<Figure size 432x288 with 1 Axes>"
      ]
     },
     "metadata": {
      "needs_background": "light"
     },
     "output_type": "display_data"
    }
   ],
   "source": [
    "# Finding the number of components that will satisfy 85%\n",
    "n_components = 150\n",
    "pca = PCA(n_components = n_components, svd_solver = 'randomized', whiten = True).fit(X_train)\n",
    "# PCA cumulative explained variance ratio\n",
    "plt.plot(np.cumsum(pca.explained_variance_ratio_))"
   ]
  },
  {
   "cell_type": "code",
   "execution_count": 18,
   "metadata": {},
   "outputs": [
    {
     "data": {
      "text/plain": [
       "array([0.231232  , 0.34464043, 0.4185979 , 0.48509696, 0.52219499,\n",
       "       0.55367695, 0.58038493, 0.59946981, 0.61830748, 0.6348557 ,\n",
       "       0.65070261, 0.66430991, 0.6772554 , 0.68913106, 0.69990387,\n",
       "       0.70949501, 0.71869829, 0.72728802, 0.73507048, 0.742393  ,\n",
       "       0.74927881, 0.75538313, 0.76125375, 0.76679196, 0.77213061,\n",
       "       0.77733785, 0.78220224, 0.786858  , 0.79145081, 0.79576084,\n",
       "       0.79998409, 0.80380368, 0.80745451, 0.81105882, 0.81445889,\n",
       "       0.81783182, 0.82103139, 0.82418195, 0.82731338, 0.83027782,\n",
       "       0.83318817, 0.83595254, 0.83859195, 0.84116852, 0.84372303,\n",
       "       0.84619156, 0.8485094 , 0.85076789, 0.8529971 , 0.85520705,\n",
       "       0.85734568, 0.85941891, 0.86141981, 0.8634051 , 0.86534845,\n",
       "       0.86723776, 0.86909175, 0.87090817, 0.87265666, 0.87437185,\n",
       "       0.87604783, 0.87768528, 0.87931377, 0.88087322, 0.88240283,\n",
       "       0.88391927, 0.88538908, 0.8868371 , 0.8882601 , 0.88965752,\n",
       "       0.89103522, 0.89239624, 0.89373161, 0.89501591, 0.89628161,\n",
       "       0.897542  , 0.8987741 , 0.89997094, 0.90113823, 0.9022873 ,\n",
       "       0.90342726, 0.90454255, 0.90563949, 0.90671425, 0.90778011,\n",
       "       0.9088267 , 0.9098572 , 0.91087498, 0.91186442, 0.91284136,\n",
       "       0.91381333, 0.91476867, 0.91570277, 0.91662925, 0.91752549,\n",
       "       0.91841392, 0.91929219, 0.92015366, 0.92101391, 0.92185765,\n",
       "       0.92269504, 0.92351782, 0.92433223, 0.92512858, 0.92590666,\n",
       "       0.92666879, 0.92742687, 0.92817354, 0.92890744, 0.9296291 ,\n",
       "       0.93034446, 0.93104622, 0.93173931, 0.93242026, 0.93309657,\n",
       "       0.93376721, 0.93441601, 0.9350645 , 0.93570047, 0.93631219,\n",
       "       0.93691573, 0.93750096, 0.93808513, 0.9386657 , 0.93923748,\n",
       "       0.93980526, 0.94036352, 0.94091792, 0.94147099, 0.94200838,\n",
       "       0.94253596, 0.94306258, 0.94357876, 0.94409233, 0.9446027 ,\n",
       "       0.94509973, 0.94558714, 0.946071  , 0.94655216, 0.94702104,\n",
       "       0.9474857 , 0.94794594, 0.9484017 , 0.94884976, 0.94929465,\n",
       "       0.94973312, 0.95016608, 0.95059456, 0.9510118 , 0.95142481])"
      ]
     },
     "execution_count": 18,
     "metadata": {},
     "output_type": "execute_result"
    }
   ],
   "source": [
    "np.cumsum(pca.explained_variance_ratio_)"
   ]
  },
  {
   "cell_type": "code",
   "execution_count": 19,
   "metadata": {},
   "outputs": [
    {
     "data": {
      "text/plain": [
       "47"
      ]
     },
     "execution_count": 19,
     "metadata": {},
     "output_type": "execute_result"
    }
   ],
   "source": [
    "sum(np.cumsum(pca.explained_variance_ratio_) <= 0.85)"
   ]
  },
  {
   "cell_type": "markdown",
   "metadata": {},
   "source": [
    "## Model Performance with PCA (~94%)"
   ]
  },
  {
   "cell_type": "code",
   "execution_count": 20,
   "metadata": {},
   "outputs": [],
   "source": [
    "# Number of components\n",
    "n_components = 50\n",
    "\n",
    "# Fitting the train set using PCA module\n",
    "pca = PCA(n_components = n_components, svd_solver = 'randomized', whiten = True).fit(X_train)\n",
    "\n",
    "# Constructing eigenfaces using PCA fitted with the train set\n",
    "eigenfaces = pca.components_.reshape((n_components, 50, 37))\n",
    "\n",
    "# Transforming train & test set using PCA\n",
    "X_train_pca = pca.transform(X_train)\n",
    "X_test_pca = pca.transform(custom_img_test)"
   ]
  },
  {
   "cell_type": "code",
   "execution_count": 21,
   "metadata": {},
   "outputs": [
    {
     "name": "stdout",
     "output_type": "stream",
     "text": [
      "Fitting the classifier to the training set\n"
     ]
    },
    {
     "name": "stderr",
     "output_type": "stream",
     "text": [
      "/Users/anupriya/anaconda3/lib/python3.7/site-packages/sklearn/model_selection/_split.py:2053: FutureWarning: You should specify a value for 'cv' instead of relying on the default value. The default value will change from 3 to 5 in version 0.22.\n",
      "  warnings.warn(CV_WARNING, FutureWarning)\n",
      "/Users/anupriya/anaconda3/lib/python3.7/site-packages/sklearn/model_selection/_search.py:841: DeprecationWarning: The default of the `iid` parameter will change from True to False in version 0.22 and will be removed in 0.24. This will change numeric results when test-set sizes are unequal.\n",
      "  DeprecationWarning)\n"
     ]
    },
    {
     "name": "stdout",
     "output_type": "stream",
     "text": [
      "Best estimator found by grid search:\n",
      "SVC(C=1000.0, cache_size=200, class_weight='balanced', coef0=0.0,\n",
      "  decision_function_shape='ovr', degree=3, gamma=0.01, kernel='rbf',\n",
      "  max_iter=-1, probability=False, random_state=None, shrinking=True,\n",
      "  tol=0.001, verbose=False)\n"
     ]
    }
   ],
   "source": [
    "# Classifying images\n",
    "print(\"Fitting the classifier to the training set\")\n",
    "param_grid = {'C': [1e3, 5e3, 1e4, 5e4, 1e5],\n",
    "              'gamma': [0.0001, 0.0005, 0.001, 0.005, 0.01, 0.1], }\n",
    "\n",
    "clf = GridSearchCV(SVC(kernel='rbf', class_weight='balanced'), param_grid)\n",
    "clf = clf.fit(X_train_pca, y_train)\n",
    "print(\"Best estimator found by grid search:\")\n",
    "print(clf.best_estimator_)"
   ]
  },
  {
   "cell_type": "code",
   "execution_count": 22,
   "metadata": {},
   "outputs": [
    {
     "data": {
      "text/plain": [
       "array([53, 61, 61, 62, 60, 61, 63, 62, 63, 60])"
      ]
     },
     "execution_count": 22,
     "metadata": {},
     "output_type": "execute_result"
    }
   ],
   "source": [
    "y_pred = clf.predict(X_test_pca)\n",
    "y_pred"
   ]
  },
  "source": [
    "X_test_pca"
   ]
  },
  {
   "cell_type": "code",
   "execution_count": 24,
   "metadata": {},
   "outputs": [
    {
     "data": {
      "text/plain": [
       "{53, 60, 61, 62, 63}"
      ]
     },
     "execution_count": 24,
     "metadata": {},
     "output_type": "execute_result"
    }
   ],
   "source": [
    "set(y_pred)"
   ]
  },
  {
   "cell_type": "code",
   "execution_count": 25,
   "metadata": {},
   "outputs": [
    {
     "data": {
      "text/plain": [
       "array(['Alejandro Toledo', 'Alvaro Uribe', 'Amelie Mauresmo',\n",
       "       'Andre Agassi', 'Angelina Jolie', 'Arnold Schwarzenegger',\n",
       "       'Atal Bihari Vajpayee', 'Bill Clinton', 'Carlos Menem',\n",
       "       'Colin Powell', 'David Beckham', 'Donald Rumsfeld',\n",
       "       'George Robertson', 'Gerhard Schroeder', 'Gloria Macapagal Arroyo',\n",
       "       'Gray Davis', 'Guillermo Coria', 'Hamid Karzai', 'Hans Blix',\n",
       "       'Hugo Chavez', 'Igor Ivanov', 'Jack Straw', 'Jacques Chirac',\n",
       "       'Jean Chretien', 'Jennifer Aniston', 'Jennifer Capriati',\n",
       "       'Jennifer Lopez', 'Jeremy Greenstock', 'Jiang Zemin',\n",
       "       'John Ashcroft', 'John Negroponte', 'Jose Maria Aznar',\n",
       "       'Juan Carlos Ferrero', 'Junichiro Koizumi', 'Kofi Annan',\n",
       "       'Laura Bush', 'Lindsay Davenport', 'Lleyton Hewitt',\n",
       "       'Luiz Inacio Lula da Silva', 'Mahmoud Abbas',\n",
       "       'Megawati Sukarnoputri', 'Michael Bloomberg', 'Naomi Watts',\n",
       "       'Nestor Kirchner', 'Paul Bremer', 'Pete Sampras',\n",
       "       'Recep Tayyip Erdogan', 'Ricardo Lagos', 'Roh Moo-hyun',\n",
       "       'Rudolph Giuliani', 'Saddam Hussein', 'Serena Williams',\n",
       "       'Silvio Berlusconi', 'Tiger Woods', 'Tom Daschle', 'Tom Ridge',\n",
       "       'Tony Blair', 'Vicente Fox', 'Vladimir Putin', 'Winona Ryder',\n",
       "       'ANU', 'KUNAL', 'STEVE', 'HENA'], dtype='<U25')"
      ]
     },
     "execution_count": 25,
     "metadata": {},
     "output_type": "execute_result"
    }
   ],
   "source": [
    "target_names"
   ]
  },
  {
   "cell_type": "code",
   "execution_count": 26,
   "metadata": {},
   "outputs": [
    {
     "data": {
      "text/plain": [
       "64"
      ]
     },
     "execution_count": 26,
     "metadata": {},
     "output_type": "execute_result"
    }
   ],
   "source": [
    "len(target_names)"
   ]
  },
  {
   "cell_type": "code",
   "execution_count": 27,
   "metadata": {
    "scrolled": true
   },
   "outputs": [
    {
     "name": "stdout",
     "output_type": "stream",
     "text": [
      "              precision    recall  f1-score   support\n",
      "\n",
      " Tiger Woods       0.00      0.00      0.00         0\n",
      "         ANU       1.00      1.00      1.00         2\n",
      "       KUNAL       1.00      0.75      0.86         4\n",
      "       STEVE       1.00      1.00      1.00         2\n",
      "        HENA       1.00      1.00      1.00         2\n",
      "\n",
      "   micro avg       0.90      0.90      0.90        10\n",
      "   macro avg       0.80      0.75      0.77        10\n",
      "weighted avg       1.00      0.90      0.94        10\n",
      "\n"
     ]
    },
    {
     "name": "stderr",
     "output_type": "stream",
     "text": [
      "/Users/anupriya/anaconda3/lib/python3.7/site-packages/sklearn/metrics/classification.py:1145: UndefinedMetricWarning: Recall and F-score are ill-defined and being set to 0.0 in labels with no true samples.\n",
      "  'recall', 'true', average, warn_for)\n"
     ]
    }
   ],
   "source": [
    "print(classification_report(custom_index_test, y_pred, target_names=target_names[[i for i in sorted(set(y_pred))]]))"
   ]
  },
  {
   "cell_type": "markdown",
   "metadata": {},
   "source": [
    "## Visualizing the predictions"
   ]
  },
  {
   "cell_type": "code",
   "execution_count": 28,
   "metadata": {},
   "outputs": [
    {
     "data": {
      "image/png": "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\n",
      "text/plain": [
       "<Figure size 648x345.6 with 10 Axes>"
      ]
     },
     "metadata": {},
     "output_type": "display_data"
    },
    {
     "data": {
      "image/png": "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\n",
      "text/plain": [
       "<Figure size 648x345.6 with 10 Axes>"
      ]
     },
     "metadata": {},
     "output_type": "display_data"
    }
   ],
   "source": [
    "# Qualitative evaluation of the predictions using matplotlib\n",
    "def plot_gallery(images, titles, h, w, n_row=2, n_col=5):\n",
    "    \"\"\"Helper function to plot a gallery of portraits\"\"\"\n",
    "    plt.figure(figsize=(1.8 * n_col, 2.4 * n_row))\n",
    "    plt.subplots_adjust(bottom=0, left=.01, right=.99, top=.90, hspace=.35)\n",
    "    for i in range(n_row * n_col):\n",
    "        plt.subplot(n_row, n_col, i + 1)\n",
    "        plt.imshow(images[i].reshape((h, w)), cmap=plt.cm.gray)\n",
    "        plt.title(titles[i], size=12)\n",
    "        plt.xticks(())\n",
    "        plt.yticks(())\n",
    "\n",
    "\n",
    "# plot the result of the prediction on a portion of the test set\n",
    "def title(y_pred, y_test, new_target_names, i):\n",
    "    pred_name = target_names[y_pred[i]].rsplit(' ', 1)[-1]\n",
    "    true_name = target_names[custom_index_test[i]].rsplit(' ', 1)[-1]\n",
    "    return 'predicted: %s\\ntrue:      %s' % (pred_name, true_name)\n",
    "\n",
    "prediction_titles = [title(y_pred, y_test, target_names, i)\n",
    "                     for i in range(y_pred.shape[0])]\n",
    "h,w = 50, 37\n",
    "plot_gallery(custom_img_test, prediction_titles, h, w)\n",
    "\n",
    "# plot the gallery of the most significative eigenfaces\n",
    "\n",
    "eigenface_titles = [\"eigenface %d\" % i for i in range(eigenfaces.shape[0])]\n",
    "plot_gallery(eigenfaces, eigenface_titles, h, w)\n",
    "\n",
    "plt.show()"
   ]
  }
 ],
 "metadata": {
  "kernelspec": {
   "display_name": "Python 3",
   "language": "python",
   "name": "python3"
  },
  "language_info": {
   "codemirror_mode": {
    "name": "ipython",
    "version": 3
   },
   "file_extension": ".py",
   "mimetype": "text/x-python",
   "name": "python",
   "nbconvert_exporter": "python",
   "pygments_lexer": "ipython3",
   "version": "3.7.1"
  }
 },
 "nbformat": 4,
 "nbformat_minor": 2
}
